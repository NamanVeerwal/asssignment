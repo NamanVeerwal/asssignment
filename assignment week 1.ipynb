{
 "cells": [
  {
   "cell_type": "markdown",
   "id": "2c90a921-1354-4fbb-80b6-6fe4b3a4b8e0",
   "metadata": {},
   "source": [
    "Q1"
   ]
  },
  {
   "cell_type": "code",
   "execution_count": 1,
   "id": "f4ca3d5c-f607-45dd-804b-06a78f9efa50",
   "metadata": {},
   "outputs": [],
   "source": [
    "# (i) String\n",
    "strr = \"Anand\"\n",
    "\n",
    "# (ii) List\n",
    "listt = [1, 2, 3, 4, 5]\n",
    "\n",
    "# (iii) Float\n",
    "floatt = 3.14\n",
    "\n",
    "# (iv) Tuple\n",
    "tuplee = (10, 20, 30)"
   ]
  },
  {
   "cell_type": "markdown",
   "id": "ebce8af4-7160-4cb8-9cec-cc85c9a54275",
   "metadata": {},
   "source": [
    "Q2->\n",
    "(i) var1 = ‘ ‘ -> string\n",
    "(ii) var2 = ‘[ DS , ML , Python]’ ->string\n",
    "(iii) var3 = [ ‘DS’ , ’ML’ , ‘Python’ ] ->list\n",
    "(iv) var4 = 1-> integer"
   ]
  },
  {
   "cell_type": "markdown",
   "id": "ef86955a-f751-483f-93e9-953ccf147f3b",
   "metadata": {},
   "source": [
    "Q3"
   ]
  },
  {
   "cell_type": "code",
   "execution_count": 4,
   "id": "e6e7087c-9aa0-4304-b02e-73d472c63823",
   "metadata": {},
   "outputs": [
    {
     "name": "stdout",
     "output_type": "stream",
     "text": [
      "3.3333333333333335\n"
     ]
    }
   ],
   "source": [
    "# (i) The / operator is used for division in Python, and it returns the quotient \n",
    "res = 10 / 3\n",
    "print(res)\n"
   ]
  },
  {
   "cell_type": "code",
   "execution_count": 5,
   "id": "5de4806f-df18-4c3e-997c-34b218d35792",
   "metadata": {},
   "outputs": [
    {
     "name": "stdout",
     "output_type": "stream",
     "text": [
      "1\n"
     ]
    }
   ],
   "source": [
    "#(ii) The % operator is used for finding the remainder of the division between two numbers.\n",
    "rem=10%3\n",
    "print(rem)\n"
   ]
  },
  {
   "cell_type": "code",
   "execution_count": 6,
   "id": "feb79ea0-952a-403e-bfcf-c7a34bd90750",
   "metadata": {},
   "outputs": [
    {
     "name": "stdout",
     "output_type": "stream",
     "text": [
      "3\n"
     ]
    }
   ],
   "source": [
    "#(iii) The // operator is used for floor division, which returns the largest integer less than or equal to the result of division.\n",
    "res = 10 // 3\n",
    "print(res)"
   ]
  },
  {
   "cell_type": "code",
   "execution_count": 7,
   "id": "b17c8d23-ffe5-4f44-b0ec-365250d03ff1",
   "metadata": {},
   "outputs": [
    {
     "name": "stdout",
     "output_type": "stream",
     "text": [
      "8\n"
     ]
    }
   ],
   "source": [
    "#(iv) The ** operator is used for exponentiation, which raises the left operand to the power of the right operand.\n",
    "res=2**3\n",
    "print(res)"
   ]
  },
  {
   "cell_type": "markdown",
   "id": "c2e67221-c28c-4291-b953-0f399efc10ac",
   "metadata": {},
   "source": [
    "Q4"
   ]
  },
  {
   "cell_type": "code",
   "execution_count": 8,
   "id": "25c3cc01-d85d-4d3d-8698-8bc52ef46c0e",
   "metadata": {},
   "outputs": [
    {
     "name": "stdout",
     "output_type": "stream",
     "text": [
      "1\n",
      "<class 'int'>\n",
      "2\n",
      "<class 'int'>\n",
      "3\n",
      "<class 'int'>\n",
      "3.3\n",
      "<class 'float'>\n",
      "Ramesh\n",
      "<class 'str'>\n",
      "(4+5j)\n",
      "<class 'complex'>\n",
      "True\n",
      "<class 'bool'>\n",
      "[11, 22, 33, 44]\n",
      "<class 'list'>\n",
      "32\n",
      "<class 'int'>\n",
      "Suresh\n",
      "<class 'str'>\n"
     ]
    }
   ],
   "source": [
    "lis=[1,2,3,3.3,\"Ramesh\",4+5j,True,[11,22,33,44],32,\"Suresh\"]\n",
    "for i in lis:\n",
    "    print(i)\n",
    "    print(type(i))"
   ]
  },
  {
   "cell_type": "markdown",
   "id": "1882e5db-31ae-4ada-a65c-dd62295e87a3",
   "metadata": {},
   "source": [
    "Q5"
   ]
  },
  {
   "cell_type": "code",
   "execution_count": 12,
   "id": "e3463b68-6a5d-48ce-95e5-b3a2b6e64be8",
   "metadata": {},
   "outputs": [
    {
     "name": "stdin",
     "output_type": "stream",
     "text": [
      "Enter the number A:  8\n",
      "Enter the number B:  2\n"
     ]
    },
    {
     "name": "stdout",
     "output_type": "stream",
     "text": [
      "A is purely divisible by B\n",
      "3 times purely divisible\n"
     ]
    }
   ],
   "source": [
    "A = int(input(\"Enter the number A: \"))\n",
    "B = int(input(\"Enter the number B: \"))\n",
    "count = 0\n",
    "while A % B == 0:\n",
    "    A = A / B\n",
    "    count += 1\n",
    "\n",
    "if A == 1:\n",
    "    print(\"A is purely divisible by B\")\n",
    "    print(f\"{count} times purely divisible\")\n",
    "else:\n",
    "    print(\"A is not purely divisible by B\")"
   ]
  },
  {
   "cell_type": "markdown",
   "id": "d4d0ab9c-70b4-4f7f-99ba-06411f5a8557",
   "metadata": {},
   "source": [
    "Q6"
   ]
  },
  {
   "cell_type": "code",
   "execution_count": 13,
   "id": "3ada5c03-63da-4ab4-aa97-536044712d94",
   "metadata": {},
   "outputs": [
    {
     "name": "stdout",
     "output_type": "stream",
     "text": [
      "1 is not divisible by 3\n",
      "2 is not divisible by 3\n",
      "3 is divisible by 3\n",
      "4 is not divisible by 3\n",
      "5 is not divisible by 3\n",
      "6 is divisible by 3\n",
      "7 is not divisible by 3\n",
      "8 is not divisible by 3\n",
      "9 is divisible by 3\n",
      "10 is not divisible by 3\n",
      "11 is not divisible by 3\n",
      "12 is divisible by 3\n",
      "13 is not divisible by 3\n",
      "14 is not divisible by 3\n",
      "15 is divisible by 3\n",
      "16 is not divisible by 3\n",
      "17 is not divisible by 3\n",
      "18 is divisible by 3\n",
      "19 is not divisible by 3\n",
      "20 is not divisible by 3\n",
      "21 is divisible by 3\n",
      "22 is not divisible by 3\n",
      "23 is not divisible by 3\n",
      "24 is divisible by 3\n",
      "25 is not divisible by 3\n"
     ]
    }
   ],
   "source": [
    "listt = [1, 2, 3, 4, 5, 6, 7, 8, 9, 10,11, 12, 13, 14, 15, 16, 17, 18, 19, 20,21, 22, 23, 24, 25]\n",
    "for i in listt:\n",
    "    if i%3==0:\n",
    "        print(f\"{i} is divisible by 3\")\n",
    "    else:\n",
    "        print(f\"{i} is not divisible by 3\")"
   ]
  },
  {
   "cell_type": "markdown",
   "id": "67221178-13d2-4f2f-b9e6-9ed0fb70e7bf",
   "metadata": {},
   "source": [
    "Q7->\n"
   ]
  },
  {
   "cell_type": "markdown",
   "id": "cbf80591-dcca-4549-8458-371029084c89",
   "metadata": {},
   "source": [
    "Mutable Data Types:\n",
    "\n",
    "Mutable data types are those whose values can be changed after they are created. When you modify a mutable object, it is modified in place, and the same object is updated.\n",
    "Common examples of mutable data types in Python include lists, dictionaries, and sets.\n"
   ]
  },
  {
   "cell_type": "code",
   "execution_count": 14,
   "id": "b299ccea-1154-461b-bcbb-9235b8a5ec8e",
   "metadata": {},
   "outputs": [
    {
     "name": "stdout",
     "output_type": "stream",
     "text": [
      "[1, 2, 3, 4, 5]\n",
      "[1, 2, 55, 4, 5]\n"
     ]
    }
   ],
   "source": [
    "lis=[1,2,3,4,5]\n",
    "print(lis)\n",
    "lis[2]=55\n",
    "print(lis)"
   ]
  },
  {
   "cell_type": "markdown",
   "id": "28472812-408c-4f2a-8c8c-83889e56e7a1",
   "metadata": {},
   "source": [
    "Immutable Data Types:\n",
    "\n",
    "Immutable data types are those whose values cannot be changed after they are created. When you modify an immutable object, you actually create a new object.\n",
    "Common examples of immutable data types in Python include integers, floats, strings, and tuples."
   ]
  },
  {
   "cell_type": "code",
   "execution_count": 15,
   "id": "d31fd8b2-c2a3-4362-96fc-d2e9d45288f9",
   "metadata": {},
   "outputs": [
    {
     "name": "stdout",
     "output_type": "stream",
     "text": [
      "C\n"
     ]
    },
    {
     "ename": "TypeError",
     "evalue": "'str' object does not support item assignment",
     "output_type": "error",
     "traceback": [
      "\u001b[0;31m---------------------------------------------------------------------------\u001b[0m",
      "\u001b[0;31mTypeError\u001b[0m                                 Traceback (most recent call last)",
      "Cell \u001b[0;32mIn[15], line 3\u001b[0m\n\u001b[1;32m      1\u001b[0m strr\u001b[38;5;241m=\u001b[39m\u001b[38;5;124m\"\u001b[39m\u001b[38;5;124mABCD\u001b[39m\u001b[38;5;124m\"\u001b[39m\n\u001b[1;32m      2\u001b[0m \u001b[38;5;28mprint\u001b[39m(strr[\u001b[38;5;241m2\u001b[39m])\n\u001b[0;32m----> 3\u001b[0m \u001b[43mstrr\u001b[49m\u001b[43m[\u001b[49m\u001b[38;5;241;43m2\u001b[39;49m\u001b[43m]\u001b[49m\u001b[38;5;241m=\u001b[39m\u001b[38;5;124m\"\u001b[39m\u001b[38;5;124mG\u001b[39m\u001b[38;5;124m\"\u001b[39m\n",
      "\u001b[0;31mTypeError\u001b[0m: 'str' object does not support item assignment"
     ]
    }
   ],
   "source": [
    "strr=\"ABCD\"\n",
    "print(strr[2])\n",
    "# so we cannot update the value in string\n",
    "strr[2]=\"G\""
   ]
  },
  {
   "cell_type": "code",
   "execution_count": null,
   "id": "11b23b68-77cb-4aca-ab5c-48ee174d7bd3",
   "metadata": {},
   "outputs": [],
   "source": []
  }
 ],
 "metadata": {
  "kernelspec": {
   "display_name": "Python 3 (ipykernel)",
   "language": "python",
   "name": "python3"
  },
  "language_info": {
   "codemirror_mode": {
    "name": "ipython",
    "version": 3
   },
   "file_extension": ".py",
   "mimetype": "text/x-python",
   "name": "python",
   "nbconvert_exporter": "python",
   "pygments_lexer": "ipython3",
   "version": "3.10.8"
  }
 },
 "nbformat": 4,
 "nbformat_minor": 5
}
