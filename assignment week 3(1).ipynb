{
 "cells": [
  {
   "cell_type": "markdown",
   "id": "7876c762-b5bc-41eb-9a3f-5721788e092a",
   "metadata": {},
   "source": [
    "Q1->The keyword used to create a function is def"
   ]
  },
  {
   "cell_type": "code",
   "execution_count": 1,
   "id": "c86352ff-e38c-4bb4-aca8-1a0c15de33a6",
   "metadata": {},
   "outputs": [],
   "source": [
    "def oddf():\n",
    "    oddnum=[]\n",
    "    for i in range(26):\n",
    "        if i%2!=0:\n",
    "            oddnum.append(i)\n",
    "    return oddnum"
   ]
  },
  {
   "cell_type": "code",
   "execution_count": 2,
   "id": "598a30f9-4183-41aa-8f46-5a1434abe1a2",
   "metadata": {},
   "outputs": [
    {
     "name": "stdout",
     "output_type": "stream",
     "text": [
      "[1, 3, 5, 7, 9, 11, 13, 15, 17, 19, 21, 23, 25]\n"
     ]
    }
   ],
   "source": [
    "print(oddf())"
   ]
  },
  {
   "cell_type": "markdown",
   "id": "fe5bc35a-024d-4990-8534-701bdff17593",
   "metadata": {},
   "source": [
    "Q2->*args and **kwargs are used as special parameters in functions to handle a variable number of arguments and keyword arguments, respectively. They provide flexibility when you need to write functions that can accept an arbitrary number of arguments or keyword arguments.\n",
    "\n",
    "Here's a demonstration of how to use *args and **kwargs in functions:"
   ]
  },
  {
   "cell_type": "markdown",
   "id": "5d85be8b-6ed6-4bdd-b1b1-2eee61c28e1c",
   "metadata": {},
   "source": [
    "*args allows you to pass a variable number of non-keyword arguments to a function. These arguments are packed into a tuple within the function.\n"
   ]
  },
  {
   "cell_type": "code",
   "execution_count": 3,
   "id": "868c376b-b00e-4ae7-8b73-3b0c4b341f00",
   "metadata": {},
   "outputs": [],
   "source": [
    "def summ(*args):\n",
    "    sum=0\n",
    "    for i in args:\n",
    "        sum=sum+i\n",
    "    return sum"
   ]
  },
  {
   "cell_type": "code",
   "execution_count": 6,
   "id": "4020bb45-09d9-4562-85f3-541eb5131b65",
   "metadata": {},
   "outputs": [
    {
     "name": "stdout",
     "output_type": "stream",
     "text": [
      "28\n",
      "3\n"
     ]
    }
   ],
   "source": [
    "print(summ(1,2,3,4,5,6,7))\n",
    "print(summ(1,2))"
   ]
  },
  {
   "cell_type": "markdown",
   "id": "0428e021-cf28-4dd4-b327-5a3b8af15aed",
   "metadata": {},
   "source": [
    "**kwargs allows you to pass a variable number of keyword arguments to a function. These arguments are packed into a dictionary within the function.\n",
    "python\n"
   ]
  },
  {
   "cell_type": "code",
   "execution_count": 14,
   "id": "dad22dd3-997a-4158-91b3-0f4422bf7b5a",
   "metadata": {},
   "outputs": [],
   "source": [
    "def fun(**kwargs):\n",
    "    \n",
    "    print(kwargs)"
   ]
  },
  {
   "cell_type": "code",
   "execution_count": 15,
   "id": "3e0232eb-91d3-425a-a6aa-197143b5f151",
   "metadata": {},
   "outputs": [
    {
     "name": "stdout",
     "output_type": "stream",
     "text": [
      "{'name': 'Naman', 'abc': 1234, 'city': 'Ghaziabad'}\n"
     ]
    }
   ],
   "source": [
    "fun(name=\"Naman\",abc=1234,city=\"Ghaziabad\")"
   ]
  },
  {
   "cell_type": "markdown",
   "id": "cb2c3ff5-cca9-4b62-ba29-ab7b12a3f32e",
   "metadata": {},
   "source": [
    "Q3->An iterator is an object that allows you to iterate (loop) over a collection of elements, such as a list, tuple, or any other iterable object, one item at a time. Iterators implement two essential methods: iter() and next().\n",
    "\n",
    "iter(): This method initializes the iterator object. It is called when you create an iterator using the iter() function.\n",
    "\n",
    "next(): This method is used to retrieve the next element from the iterator. It is called when you use the next() function on an iterator."
   ]
  },
  {
   "cell_type": "code",
   "execution_count": 18,
   "id": "12041e21-442e-4366-bef3-69455dc6fed4",
   "metadata": {},
   "outputs": [
    {
     "data": {
      "text/plain": [
       "list_iterator"
      ]
     },
     "execution_count": 18,
     "metadata": {},
     "output_type": "execute_result"
    }
   ],
   "source": [
    "listt=[2, 4, 6, 8, 10, 12, 14,16, 18, 20]\n",
    "new_list=iter(listt)\n",
    "type(new_list)"
   ]
  },
  {
   "cell_type": "code",
   "execution_count": 19,
   "id": "8bf24929-943f-469f-a15a-32c06b4b0422",
   "metadata": {},
   "outputs": [
    {
     "name": "stdout",
     "output_type": "stream",
     "text": [
      "2\n",
      "4\n",
      "6\n",
      "8\n",
      "10\n"
     ]
    }
   ],
   "source": [
    "for i in range(5):\n",
    "    res=next(new_list)\n",
    "    print(res)"
   ]
  },
  {
   "cell_type": "markdown",
   "id": "89293f82-eda8-44a6-8603-36292b0bd8ab",
   "metadata": {},
   "source": [
    "Q4->A generator function in Python is a special type of function that returns an iterator, which can be used to generate a series of values  on-demand rather than generating them all at once and storing them in memory.\n",
    "\n",
    "yield-The yield keyword is used in a generator function to yield (produce) a value to the caller, but it doesn't terminate the function's execution. The function's state is saved, allowing it to resume from where it left off the next time a value is requested. This is what makes generator functions efficient for working with large data sets or infinite sequences because they only generate values as needed, conserving memory."
   ]
  },
  {
   "cell_type": "code",
   "execution_count": 23,
   "id": "e8ee039b-c965-422e-94bd-b0b9ec4386d1",
   "metadata": {},
   "outputs": [
    {
     "name": "stdout",
     "output_type": "stream",
     "text": [
      "1\n",
      "4\n",
      "9\n",
      "1156\n",
      "25\n",
      "3136\n",
      "25\n"
     ]
    }
   ],
   "source": [
    "l=[1,2,3,34,5,56,5]\n",
    "def fun1(n):\n",
    "    for i in n:\n",
    "        yield i**2\n",
    "    \n",
    "res=fun1(l)\n",
    "for i in res:\n",
    "    print(i)"
   ]
  },
  {
   "cell_type": "markdown",
   "id": "be0b7dfa-9309-4e91-bf6a-87e1bf1cb36b",
   "metadata": {},
   "source": [
    "Q5"
   ]
  },
  {
   "cell_type": "code",
   "execution_count": 32,
   "id": "5f3ae701-3d00-4f3d-a17f-ae1d16d38813",
   "metadata": {},
   "outputs": [],
   "source": [
    "def prime(x):\n",
    "    for i in range(1,x+1):\n",
    "        count=0\n",
    "        for j in range(1,i+1):\n",
    "            if i%j==0:\n",
    "                count+=1\n",
    "        if count==2:\n",
    "            yield i\n",
    "            \n",
    "                "
   ]
  },
  {
   "cell_type": "code",
   "execution_count": 33,
   "id": "334c264b-e121-454c-b200-e10c4d8599bd",
   "metadata": {},
   "outputs": [
    {
     "data": {
      "text/plain": [
       "generator"
      ]
     },
     "execution_count": 33,
     "metadata": {},
     "output_type": "execute_result"
    }
   ],
   "source": [
    "ress=prime(1000)\n",
    "type(ress)"
   ]
  },
  {
   "cell_type": "code",
   "execution_count": 34,
   "id": "b5e72f36-a436-45ad-90b9-936f29ec0adf",
   "metadata": {},
   "outputs": [
    {
     "name": "stdout",
     "output_type": "stream",
     "text": [
      "2\n",
      "3\n",
      "5\n",
      "7\n",
      "11\n",
      "13\n",
      "17\n",
      "19\n",
      "23\n",
      "29\n",
      "31\n",
      "37\n",
      "41\n",
      "43\n",
      "47\n",
      "53\n",
      "59\n",
      "61\n",
      "67\n",
      "71\n"
     ]
    }
   ],
   "source": [
    "for i in range(20):\n",
    "    fress=next(ress)\n",
    "    print(fress)"
   ]
  },
  {
   "cell_type": "markdown",
   "id": "0b6ff803-be71-4313-8476-68c6d0d160b0",
   "metadata": {},
   "source": [
    "Q6"
   ]
  },
  {
   "cell_type": "code",
   "execution_count": 39,
   "id": "ab2e02dd-6bc4-4019-8f54-37056293f1c0",
   "metadata": {},
   "outputs": [
    {
     "name": "stdout",
     "output_type": "stream",
     "text": [
      "[0, 1, 1, 2, 3, 5, 8, 13, 21, 34]\n"
     ]
    }
   ],
   "source": [
    "fib=[0,1]\n",
    "while (len(fib)<10):\n",
    "    fib.append(fib[-1]+fib[-2])\n",
    "print(fib)\n",
    "    "
   ]
  },
  {
   "cell_type": "markdown",
   "id": "c55ef1d5-a5cc-46ec-af13-b837c1ecf55f",
   "metadata": {},
   "source": [
    "Q7"
   ]
  },
  {
   "cell_type": "code",
   "execution_count": 41,
   "id": "f4ce0ab0-7fb3-484c-8e6a-295164f2d355",
   "metadata": {},
   "outputs": [
    {
     "name": "stdout",
     "output_type": "stream",
     "text": [
      "['p', 'w', 's', 'k', 'i', 'l', 'l', 's']\n"
     ]
    }
   ],
   "source": [
    "strr='pwskills'\n",
    "new_strr=[x for x in strr]\n",
    "print(new_strr)"
   ]
  },
  {
   "cell_type": "markdown",
   "id": "8ccb849f-e4d1-4d04-8694-769f2deb282a",
   "metadata": {},
   "source": [
    "Q8"
   ]
  },
  {
   "cell_type": "code",
   "execution_count": 53,
   "id": "3f4bd99c-1120-402e-bada-7e26eb462f01",
   "metadata": {},
   "outputs": [
    {
     "name": "stdin",
     "output_type": "stream",
     "text": [
      "Enter the number 16461\n"
     ]
    }
   ],
   "source": [
    "num=int(input(\"Enter the number\"))\n",
    "\n",
    "def palin(x):\n",
    "    temp=x\n",
    "    new=0\n",
    "    while temp>0:\n",
    "        dig= temp%10\n",
    "        new=(new*10)+dig\n",
    "        temp=temp//10\n",
    "    if x==new:\n",
    "        print(\"It is a plaindrome number\")\n",
    "    else:\n",
    "         print(\"It is not a plaindrome number\")\n"
   ]
  },
  {
   "cell_type": "code",
   "execution_count": 54,
   "id": "64e11f49-9f3d-4955-9e4a-f4ba5c1f97a0",
   "metadata": {},
   "outputs": [
    {
     "name": "stdout",
     "output_type": "stream",
     "text": [
      "It is a plaindrome number\n"
     ]
    }
   ],
   "source": [
    "palin(num)"
   ]
  },
  {
   "cell_type": "markdown",
   "id": "508f9a98-b5d4-4a26-a196-f513866bbdf9",
   "metadata": {},
   "source": [
    "Q9"
   ]
  },
  {
   "cell_type": "code",
   "execution_count": 55,
   "id": "5422f614-796f-40d0-bc80-c32c860b1364",
   "metadata": {},
   "outputs": [],
   "source": [
    "list1=[x for x in range(1,101)]"
   ]
  },
  {
   "cell_type": "code",
   "execution_count": 56,
   "id": "dc556372-26ae-47a0-ab6a-9316fe4f9436",
   "metadata": {},
   "outputs": [
    {
     "name": "stdout",
     "output_type": "stream",
     "text": [
      "[1, 2, 3, 4, 5, 6, 7, 8, 9, 10, 11, 12, 13, 14, 15, 16, 17, 18, 19, 20, 21, 22, 23, 24, 25, 26, 27, 28, 29, 30, 31, 32, 33, 34, 35, 36, 37, 38, 39, 40, 41, 42, 43, 44, 45, 46, 47, 48, 49, 50, 51, 52, 53, 54, 55, 56, 57, 58, 59, 60, 61, 62, 63, 64, 65, 66, 67, 68, 69, 70, 71, 72, 73, 74, 75, 76, 77, 78, 79, 80, 81, 82, 83, 84, 85, 86, 87, 88, 89, 90, 91, 92, 93, 94, 95, 96, 97, 98, 99, 100]\n"
     ]
    }
   ],
   "source": [
    "print(list1)"
   ]
  },
  {
   "cell_type": "code",
   "execution_count": 57,
   "id": "25447175-d5d5-46ff-8651-d31f26901907",
   "metadata": {},
   "outputs": [
    {
     "name": "stdout",
     "output_type": "stream",
     "text": [
      "[1, 3, 5, 7, 9, 11, 13, 15, 17, 19, 21, 23, 25, 27, 29, 31, 33, 35, 37, 39, 41, 43, 45, 47, 49, 51, 53, 55, 57, 59, 61, 63, 65, 67, 69, 71, 73, 75, 77, 79, 81, 83, 85, 87, 89, 91, 93, 95, 97, 99]\n"
     ]
    }
   ],
   "source": [
    "oddlist=[x for x in list1 if x%2!=0 ]\n",
    "print(oddlist)"
   ]
  },
  {
   "cell_type": "code",
   "execution_count": null,
   "id": "203923fa-ce9f-48ec-9678-49d72f742af0",
   "metadata": {},
   "outputs": [],
   "source": []
  }
 ],
 "metadata": {
  "kernelspec": {
   "display_name": "Python 3 (ipykernel)",
   "language": "python",
   "name": "python3"
  },
  "language_info": {
   "codemirror_mode": {
    "name": "ipython",
    "version": 3
   },
   "file_extension": ".py",
   "mimetype": "text/x-python",
   "name": "python",
   "nbconvert_exporter": "python",
   "pygments_lexer": "ipython3",
   "version": "3.10.8"
  }
 },
 "nbformat": 4,
 "nbformat_minor": 5
}
