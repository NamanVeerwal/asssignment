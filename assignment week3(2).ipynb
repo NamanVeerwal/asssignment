{
 "cells": [
  {
   "cell_type": "markdown",
   "id": "2e94546a-878e-42f6-bace-b22f4c59e6da",
   "metadata": {},
   "source": [
    "Q1"
   ]
  },
  {
   "cell_type": "code",
   "execution_count": 38,
   "id": "c1bcff3a-5d7d-4872-9f8f-a30bb71ce39a",
   "metadata": {},
   "outputs": [],
   "source": [
    "list1=[('Sachin Tendulkar', 34357), ('Ricky Ponting', 27483), ('Jack Kallis', 25534), ('Virat Kohli', 24936)]"
   ]
  },
  {
   "cell_type": "code",
   "execution_count": 39,
   "id": "836d7229-74e0-45c4-99cc-4b7d665517d8",
   "metadata": {},
   "outputs": [],
   "source": [
    "list1.sort(key=lambda x:x[1])"
   ]
  },
  {
   "cell_type": "code",
   "execution_count": 40,
   "id": "91015e49-672f-4679-add8-2e2c9187ee74",
   "metadata": {},
   "outputs": [
    {
     "name": "stdout",
     "output_type": "stream",
     "text": [
      "[('Virat Kohli', 24936), ('Jack Kallis', 25534), ('Ricky Ponting', 27483), ('Sachin Tendulkar', 34357)]\n"
     ]
    }
   ],
   "source": [
    "print(list1)"
   ]
  },
  {
   "cell_type": "markdown",
   "id": "9ad34a5a-8b32-42cb-b1ca-79c6df606ab5",
   "metadata": {},
   "source": [
    "Q2"
   ]
  },
  {
   "cell_type": "code",
   "execution_count": 4,
   "id": "8e504ea9-f5a5-448e-b997-90a1302b9806",
   "metadata": {},
   "outputs": [],
   "source": [
    "list2=[1, 2, 3, 4, 5, 6, 7, 8, 9, 10]"
   ]
  },
  {
   "cell_type": "code",
   "execution_count": 8,
   "id": "0d2327c0-1ec8-4b40-9b09-24cba4ac680e",
   "metadata": {},
   "outputs": [],
   "source": [
    "square=lambda x:x**2"
   ]
  },
  {
   "cell_type": "code",
   "execution_count": 10,
   "id": "5d9f628a-8470-4830-ac10-f8e9c50dfe6e",
   "metadata": {},
   "outputs": [
    {
     "name": "stdout",
     "output_type": "stream",
     "text": [
      "1\n",
      "4\n",
      "9\n",
      "16\n",
      "25\n",
      "36\n",
      "49\n",
      "64\n",
      "81\n",
      "100\n"
     ]
    }
   ],
   "source": [
    "for i in list2:\n",
    "    print(square(i))"
   ]
  },
  {
   "cell_type": "markdown",
   "id": "1fc98072-8cc3-42bf-98a7-a6e54bd488e8",
   "metadata": {},
   "source": [
    "Q3"
   ]
  },
  {
   "cell_type": "code",
   "execution_count": 12,
   "id": "c90fe46e-0fb0-4123-b254-62946a03ae4d",
   "metadata": {},
   "outputs": [],
   "source": [
    "list3=[1, 2, 3, 4, 5, 6, 7, 8, 9, 10]"
   ]
  },
  {
   "cell_type": "code",
   "execution_count": 18,
   "id": "71da4ef1-b558-4b81-92e0-5dc5f9934a22",
   "metadata": {},
   "outputs": [],
   "source": [
    "strtuple=tuple(map(lambda x:str(x),list3))"
   ]
  },
  {
   "cell_type": "code",
   "execution_count": 19,
   "id": "e80bd5ba-618f-47b7-a521-5784322813cc",
   "metadata": {},
   "outputs": [
    {
     "data": {
      "text/plain": [
       "('1', '2', '3', '4', '5', '6', '7', '8', '9', '10')"
      ]
     },
     "execution_count": 19,
     "metadata": {},
     "output_type": "execute_result"
    }
   ],
   "source": [
    "strtuple"
   ]
  },
  {
   "cell_type": "markdown",
   "id": "e5c1bc09-6e98-42a0-bca1-ae7602151dbd",
   "metadata": {},
   "source": [
    "Q4"
   ]
  },
  {
   "cell_type": "code",
   "execution_count": 20,
   "id": "4def8027-e071-409d-bcd5-d56cebf3931b",
   "metadata": {},
   "outputs": [],
   "source": [
    "list4=[]\n",
    "for i in range(1,26):\n",
    "    list4.append(i)"
   ]
  },
  {
   "cell_type": "code",
   "execution_count": 21,
   "id": "bc6eb8f2-0e11-497c-81a2-c8cce831c1a2",
   "metadata": {},
   "outputs": [
    {
     "data": {
      "text/plain": [
       "[1,\n",
       " 2,\n",
       " 3,\n",
       " 4,\n",
       " 5,\n",
       " 6,\n",
       " 7,\n",
       " 8,\n",
       " 9,\n",
       " 10,\n",
       " 11,\n",
       " 12,\n",
       " 13,\n",
       " 14,\n",
       " 15,\n",
       " 16,\n",
       " 17,\n",
       " 18,\n",
       " 19,\n",
       " 20,\n",
       " 21,\n",
       " 22,\n",
       " 23,\n",
       " 24,\n",
       " 25]"
      ]
     },
     "execution_count": 21,
     "metadata": {},
     "output_type": "execute_result"
    }
   ],
   "source": [
    "list4"
   ]
  },
  {
   "cell_type": "code",
   "execution_count": 22,
   "id": "f07c988e-dbbd-4bbe-8a8e-0cd41d854aeb",
   "metadata": {},
   "outputs": [],
   "source": [
    "from functools import reduce"
   ]
  },
  {
   "cell_type": "code",
   "execution_count": 23,
   "id": "12100a0e-6789-462a-af49-2f093f3c25aa",
   "metadata": {},
   "outputs": [],
   "source": [
    "result=reduce(lambda x,y: x*y,list4)"
   ]
  },
  {
   "cell_type": "code",
   "execution_count": 24,
   "id": "0a2f5405-41bf-4e73-9ae0-e0e75f44929c",
   "metadata": {},
   "outputs": [
    {
     "data": {
      "text/plain": [
       "15511210043330985984000000"
      ]
     },
     "execution_count": 24,
     "metadata": {},
     "output_type": "execute_result"
    }
   ],
   "source": [
    "result"
   ]
  },
  {
   "cell_type": "markdown",
   "id": "a42a67da-452f-4503-89d4-d7d9fbf8fab3",
   "metadata": {},
   "source": [
    "Q5"
   ]
  },
  {
   "cell_type": "code",
   "execution_count": 25,
   "id": "e3faeecc-febb-4d8b-a2b1-0c9444831c01",
   "metadata": {},
   "outputs": [],
   "source": [
    "list5=[2, 3, 6, 9, 27, 60, 90, 120, 55, 46]"
   ]
  },
  {
   "cell_type": "code",
   "execution_count": 27,
   "id": "a9203ead-e904-4593-9639-d528992e02d7",
   "metadata": {},
   "outputs": [
    {
     "data": {
      "text/plain": [
       "[6, 60, 90, 120]"
      ]
     },
     "execution_count": 27,
     "metadata": {},
     "output_type": "execute_result"
    }
   ],
   "source": [
    "list(filter(lambda x:x%2==0 and x%3==0,list5))"
   ]
  },
  {
   "cell_type": "markdown",
   "id": "efcbae8a-629e-4293-9b1e-2930b20d7690",
   "metadata": {},
   "source": [
    "Q6"
   ]
  },
  {
   "cell_type": "code",
   "execution_count": 28,
   "id": "86f36d0c-74ac-4745-a9bf-1fa89da844ed",
   "metadata": {},
   "outputs": [],
   "source": [
    "list6=['python', 'php', 'aba', 'radar', 'level']"
   ]
  },
  {
   "cell_type": "code",
   "execution_count": 36,
   "id": "0dd1a976-7eab-4423-948f-8eedba88e1c1",
   "metadata": {},
   "outputs": [],
   "source": [
    "res=list(filter (lambda x:x==x[::-1],list6 ))"
   ]
  },
  {
   "cell_type": "code",
   "execution_count": 37,
   "id": "df25f17e-97a8-4da6-b96b-2fdce02bee17",
   "metadata": {},
   "outputs": [
    {
     "name": "stdout",
     "output_type": "stream",
     "text": [
      "['php', 'aba', 'radar', 'level']\n"
     ]
    }
   ],
   "source": [
    "print(res)"
   ]
  },
  {
   "cell_type": "code",
   "execution_count": null,
   "id": "89a05968-86a7-492c-baab-f25a657e1023",
   "metadata": {},
   "outputs": [],
   "source": []
  }
 ],
 "metadata": {
  "kernelspec": {
   "display_name": "Python 3 (ipykernel)",
   "language": "python",
   "name": "python3"
  },
  "language_info": {
   "codemirror_mode": {
    "name": "ipython",
    "version": 3
   },
   "file_extension": ".py",
   "mimetype": "text/x-python",
   "name": "python",
   "nbconvert_exporter": "python",
   "pygments_lexer": "ipython3",
   "version": "3.10.8"
  }
 },
 "nbformat": 4,
 "nbformat_minor": 5
}
