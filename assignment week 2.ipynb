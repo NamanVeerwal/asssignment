{
 "cells": [
  {
   "cell_type": "markdown",
   "id": "7f26c3d4-9e00-484b-b2cf-64382a98d3ee",
   "metadata": {},
   "source": [
    "Q1->  Single-line comments: Single-line comments are created using the # symbol.\n",
    "      Multi-line comments: Use of triple-quoted strings\n",
    "      "
   ]
  },
  {
   "cell_type": "code",
   "execution_count": 1,
   "id": "2ddd9295-e5e5-4e11-a99f-237f6c51c4ab",
   "metadata": {},
   "outputs": [
    {
     "data": {
      "text/plain": [
       "'\\nThis is a multi-line comment using triple-quotes.\\nIt can span multiple lines.\\n'"
      ]
     },
     "execution_count": 1,
     "metadata": {},
     "output_type": "execute_result"
    }
   ],
   "source": [
    "# This is a single-line comment\n",
    "\n",
    "'''\n",
    "This is a multi-line comment using triple-quotes.\n",
    "It can span multiple lines.\n",
    "'''"
   ]
  },
  {
   "cell_type": "markdown",
   "id": "2834b06f-01c8-4e77-be7d-d390acf631b2",
   "metadata": {},
   "source": [
    "Q2->Variables in Python are used to store data values.\n",
    "To declare and assign values to variables, you simply provide a variable name and use the = operator to assign a value to it."
   ]
  },
  {
   "cell_type": "code",
   "execution_count": 2,
   "id": "6bf38214-4251-4260-897c-e2892b78ca00",
   "metadata": {},
   "outputs": [],
   "source": [
    "var=123\n",
    "var1=\"xyz\""
   ]
  },
  {
   "cell_type": "markdown",
   "id": "f024ba80-4b25-48ee-9daa-041144b72b1d",
   "metadata": {},
   "source": [
    "Q3->By using type conversion functions\n"
   ]
  },
  {
   "cell_type": "code",
   "execution_count": 4,
   "id": "e97a2e2a-3d4e-4d3d-b640-023ba3b715da",
   "metadata": {},
   "outputs": [
    {
     "data": {
      "text/plain": [
       "int"
      ]
     },
     "execution_count": 4,
     "metadata": {},
     "output_type": "execute_result"
    }
   ],
   "source": [
    "x=\"12234\"\n",
    "y=int(x)\n",
    "type(y)"
   ]
  },
  {
   "cell_type": "markdown",
   "id": "bc89e536-43bb-415a-9e16-6e84842651c8",
   "metadata": {},
   "source": [
    "Q4->To write and execute a Python script from the command line, follow these steps:\n",
    "\n",
    "Write the Python script: Create a text file with a .py extension and write your Python code in it using a text editor o.\n",
    "\n",
    "Save the script: Save the script in the directory where you want to run it.\n",
    "\n",
    "Open the command line or terminal: Open a command prompt .\n",
    "\n",
    "Navigate to the script's directory: Use the cd command to navigate to the directory where your Python script is located.\n",
    "\n",
    "Execute the script: To execute the script, use the python command followed by the script's filename."
   ]
  },
  {
   "cell_type": "markdown",
   "id": "ef295097-65f4-4c8a-bbd8-344e9c506ea6",
   "metadata": {},
   "source": [
    "Q5"
   ]
  },
  {
   "cell_type": "code",
   "execution_count": 6,
   "id": "6ff480d4-bd13-4fe9-b5ae-516c49c9234c",
   "metadata": {},
   "outputs": [],
   "source": [
    "my_list = [1, 2, 3, 4, 5]"
   ]
  },
  {
   "cell_type": "code",
   "execution_count": 7,
   "id": "f3b3df78-7f2c-4eee-a213-b898e3396c92",
   "metadata": {},
   "outputs": [
    {
     "data": {
      "text/plain": [
       "[2, 3]"
      ]
     },
     "execution_count": 7,
     "metadata": {},
     "output_type": "execute_result"
    }
   ],
   "source": [
    "my_list[1:3]"
   ]
  },
  {
   "cell_type": "markdown",
   "id": "73c9fc55-b6a4-4cd4-a87a-0bce5c1630cb",
   "metadata": {},
   "source": [
    "Q6->a complex number is a number that can be expressed in the form a + bi, where a and b are real numbers, and i represents the imaginary unit.\n",
    "In Python, complex numbers are represented using the j suffix to denote the imaginary part"
   ]
  },
  {
   "cell_type": "code",
   "execution_count": 8,
   "id": "c4af4f93-d96b-48bf-a3fa-47ee62908b97",
   "metadata": {},
   "outputs": [],
   "source": [
    "complex=4+5j    "
   ]
  },
  {
   "cell_type": "code",
   "execution_count": 9,
   "id": "2cce7050-75b2-4c13-9d13-be3d0e7a6a9d",
   "metadata": {},
   "outputs": [
    {
     "data": {
      "text/plain": [
       "complex"
      ]
     },
     "execution_count": 9,
     "metadata": {},
     "output_type": "execute_result"
    }
   ],
   "source": [
    "type(complex)"
   ]
  },
  {
   "cell_type": "markdown",
   "id": "1bafcd84-ec7e-49a2-8099-6d31a7a7b711",
   "metadata": {},
   "source": [
    "Q7"
   ]
  },
  {
   "cell_type": "code",
   "execution_count": 10,
   "id": "ee0c0da4-a73a-4f7c-a294-c61e13b8af54",
   "metadata": {},
   "outputs": [],
   "source": [
    "age=25"
   ]
  },
  {
   "cell_type": "code",
   "execution_count": 11,
   "id": "5f6c7d9d-c42e-4088-b248-19f95a5e4822",
   "metadata": {},
   "outputs": [
    {
     "data": {
      "text/plain": [
       "25"
      ]
     },
     "execution_count": 11,
     "metadata": {},
     "output_type": "execute_result"
    }
   ],
   "source": [
    "age"
   ]
  },
  {
   "cell_type": "markdown",
   "id": "a3bf8ff2-9ebc-441c-b9fd-a09a6e2c91bb",
   "metadata": {},
   "source": [
    "Q8"
   ]
  },
  {
   "cell_type": "code",
   "execution_count": 14,
   "id": "0934d35a-53ac-4aae-8cc2-19654574a34c",
   "metadata": {},
   "outputs": [],
   "source": [
    "price=9.99"
   ]
  },
  {
   "cell_type": "code",
   "execution_count": 15,
   "id": "ee04118a-220c-4547-837e-082c6051fb4a",
   "metadata": {},
   "outputs": [
    {
     "data": {
      "text/plain": [
       "float"
      ]
     },
     "execution_count": 15,
     "metadata": {},
     "output_type": "execute_result"
    }
   ],
   "source": [
    "type(price)"
   ]
  },
  {
   "cell_type": "markdown",
   "id": "e724b933-076f-4cb4-9e0a-967e242db60f",
   "metadata": {},
   "source": [
    "Q9"
   ]
  },
  {
   "cell_type": "code",
   "execution_count": 16,
   "id": "133fb6cb-dd91-4cac-aaea-31d7fea5ee75",
   "metadata": {},
   "outputs": [],
   "source": [
    "name=\"Naman veerwal\""
   ]
  },
  {
   "cell_type": "code",
   "execution_count": 17,
   "id": "04408a54-bfeb-48bf-98a9-d0682dd1fca7",
   "metadata": {},
   "outputs": [
    {
     "name": "stdout",
     "output_type": "stream",
     "text": [
      "Naman veerwal\n"
     ]
    }
   ],
   "source": [
    "print(name)"
   ]
  },
  {
   "cell_type": "markdown",
   "id": "d091fe98-e304-4c06-8594-e2712253ed61",
   "metadata": {},
   "source": [
    "Q10"
   ]
  },
  {
   "cell_type": "code",
   "execution_count": 20,
   "id": "75cfb384-8001-4f11-874c-9123abf52a09",
   "metadata": {},
   "outputs": [
    {
     "data": {
      "text/plain": [
       "'World'"
      ]
     },
     "execution_count": 20,
     "metadata": {},
     "output_type": "execute_result"
    }
   ],
   "source": [
    "str=\"Hello, World!\"\n",
    "str[7:12]"
   ]
  },
  {
   "cell_type": "code",
   "execution_count": null,
   "id": "8d8fbc8f-fe2c-4938-ac10-73275a06936f",
   "metadata": {},
   "outputs": [],
   "source": []
  }
 ],
 "metadata": {
  "kernelspec": {
   "display_name": "Python 3 (ipykernel)",
   "language": "python",
   "name": "python3"
  },
  "language_info": {
   "codemirror_mode": {
    "name": "ipython",
    "version": 3
   },
   "file_extension": ".py",
   "mimetype": "text/x-python",
   "name": "python",
   "nbconvert_exporter": "python",
   "pygments_lexer": "ipython3",
   "version": "3.10.8"
  }
 },
 "nbformat": 4,
 "nbformat_minor": 5
}
